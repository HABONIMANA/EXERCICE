{
  "nbformat": 4,
  "nbformat_minor": 0,
  "metadata": {
    "colab": {
      "provenance": [],
      "authorship_tag": "ABX9TyNWYthJwSBCASODzuyNzzgk",
      "include_colab_link": true
    },
    "kernelspec": {
      "name": "python3",
      "display_name": "Python 3"
    },
    "language_info": {
      "name": "python"
    }
  },
  "cells": [
    {
      "cell_type": "markdown",
      "metadata": {
        "id": "view-in-github",
        "colab_type": "text"
      },
      "source": [
        "<a href=\"https://colab.research.google.com/github/HABONIMANA/EXERCICE/blob/main/Untitled2.ipynb\" target=\"_parent\"><img src=\"https://colab.research.google.com/assets/colab-badge.svg\" alt=\"Open In Colab\"/></a>"
      ]
    },
    {
      "cell_type": "code",
      "source": [
        "import numpy as np\n",
        "import pandas as pd\n",
        "import matplotlib.pyplot as plt\n",
        "import seaborn as sns\n",
        "from scipy.stats import pearsonr, chi2_contingency, f_oneway"
      ],
      "metadata": {
        "id": "_DE1Ru6er7QQ"
      },
      "execution_count": 13,
      "outputs": []
    },
    {
      "cell_type": "code",
      "source": [
        "# Créer le DataFrame avec le nom 'utilisateurs' (au lieu de 'df')\n",
        "rola_cola_IFI = pd.read_csv(\"https://raw.githubusercontent.com/Mawandu/python-app/refs/heads/master/rola_cola_IFI.csv\")\n",
        "\n",
        "# Maintenant, exécuter votre code\n",
        "df_5_colonnes = rola_cola_IFI.iloc[:, :5]\n",
        "\n",
        "# Résumé pour q1\n",
        "q1_counts = rola_cola_IFI['q1'].value_counts()\n",
        "print(\"q1 - Préférence de boisson :\")\n",
        "print(f\"Rola Cola (1) : {q1_counts.get(1, 0)}\")\n",
        "print(f\"Koka Cola (2) : {q1_counts.get(2, 0)}\")\n"
      ],
      "metadata": {
        "colab": {
          "base_uri": "https://localhost:8080/"
        },
        "id": "TrtQRVrPvZyz",
        "outputId": "7abf2249-1e93-466c-e610-5b076e5b7516"
      },
      "execution_count": 14,
      "outputs": [
        {
          "output_type": "stream",
          "name": "stdout",
          "text": [
            "q1 - Préférence de boisson :\n",
            "Rola Cola (1) : 24\n",
            "Koka Cola (2) : 16\n"
          ]
        }
      ]
    },
    {
      "cell_type": "code",
      "source": [
        "def create_pie_chart(data, labels, title, filename):\n",
        "    plt.figure(figsize=(8, 6))\n",
        "    plt.pie(data, labels=labels, colors=colors_pie[:len(labels)], autopct='%1.1f%%', startangle=140)\n",
        "    plt.title(title, fontsize=14, pad=20)\n",
        "    plt.axis('equal')\n",
        "    plt.savefig(filename, bbox_inches='tight', dpi=100)\n",
        "    plt.close()\n"
      ],
      "metadata": {
        "id": "d_NnVldUyWNz"
      },
      "execution_count": 19,
      "outputs": []
    }
  ]
}